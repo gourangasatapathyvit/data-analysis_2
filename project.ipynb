{
 "cells": [
  {
   "cell_type": "markdown",
   "metadata": {},
   "source": [
    "# Online Retail\n",
    "\n",
    "Features - \n",
    "1. InvoiceNo\t\n",
    "2. StockCode\t\n",
    "3. Description\t\n",
    "4. Quantity\t\n",
    "5. Invoice Date\t\n",
    "6. UnitPrice\t\n",
    "7. CustomerID\t\n",
    "8. Country\n",
    "\n",
    "Questions on the basis of business problems-\n",
    "\n",
    "#### 1. what kind of business is this company in?\n",
    "#### 2. Analyze the sales performance of this company, and provide your insights regarding the same\n",
    "#### 3. Based on your analysis of the data, what are potential areas of improvement for the business?\n",
    "#### 4. What are additional business problems that can be analyzed using this data. Support with explanation.\n",
    "\n",
    "#### The Answers are provided below with proper analysis. Could have further more analyzed the data. But felt this was good enough for the test. Can do better analysis if needed."
   ]
  },
  {
   "cell_type": "code",
   "execution_count": 1,
   "metadata": {},
   "outputs": [],
   "source": [
    "import numpy as np\n",
    "import pandas as pd\n",
    "import matplotlib.pyplot as plt\n",
    "import seaborn as sns\n",
    "from datetime import datetime, date"
   ]
  },
  {
   "cell_type": "code",
   "execution_count": 2,
   "metadata": {},
   "outputs": [],
   "source": [
    "df = pd.read_excel('Online Retail.xlsx')"
   ]
  },
  {
   "cell_type": "code",
   "execution_count": 3,
   "metadata": {},
   "outputs": [
    {
     "data": {
      "text/html": [
       "<div>\n",
       "<style scoped>\n",
       "    .dataframe tbody tr th:only-of-type {\n",
       "        vertical-align: middle;\n",
       "    }\n",
       "\n",
       "    .dataframe tbody tr th {\n",
       "        vertical-align: top;\n",
       "    }\n",
       "\n",
       "    .dataframe thead th {\n",
       "        text-align: right;\n",
       "    }\n",
       "</style>\n",
       "<table border=\"1\" class=\"dataframe\">\n",
       "  <thead>\n",
       "    <tr style=\"text-align: right;\">\n",
       "      <th></th>\n",
       "      <th>InvoiceNo</th>\n",
       "      <th>StockCode</th>\n",
       "      <th>Description</th>\n",
       "      <th>Quantity</th>\n",
       "      <th>InvoiceDate</th>\n",
       "      <th>UnitPrice</th>\n",
       "      <th>CustomerID</th>\n",
       "      <th>Country</th>\n",
       "    </tr>\n",
       "  </thead>\n",
       "  <tbody>\n",
       "    <tr>\n",
       "      <th>0</th>\n",
       "      <td>536365</td>\n",
       "      <td>85123A</td>\n",
       "      <td>WHITE HANGING HEART T-LIGHT HOLDER</td>\n",
       "      <td>6</td>\n",
       "      <td>2010-12-01 08:26:00</td>\n",
       "      <td>2.55</td>\n",
       "      <td>17850.0</td>\n",
       "      <td>United Kingdom</td>\n",
       "    </tr>\n",
       "    <tr>\n",
       "      <th>1</th>\n",
       "      <td>536365</td>\n",
       "      <td>71053</td>\n",
       "      <td>WHITE METAL LANTERN</td>\n",
       "      <td>6</td>\n",
       "      <td>2010-12-01 08:26:00</td>\n",
       "      <td>3.39</td>\n",
       "      <td>17850.0</td>\n",
       "      <td>United Kingdom</td>\n",
       "    </tr>\n",
       "    <tr>\n",
       "      <th>2</th>\n",
       "      <td>536365</td>\n",
       "      <td>84406B</td>\n",
       "      <td>CREAM CUPID HEARTS COAT HANGER</td>\n",
       "      <td>8</td>\n",
       "      <td>2010-12-01 08:26:00</td>\n",
       "      <td>2.75</td>\n",
       "      <td>17850.0</td>\n",
       "      <td>United Kingdom</td>\n",
       "    </tr>\n",
       "    <tr>\n",
       "      <th>3</th>\n",
       "      <td>536365</td>\n",
       "      <td>84029G</td>\n",
       "      <td>KNITTED UNION FLAG HOT WATER BOTTLE</td>\n",
       "      <td>6</td>\n",
       "      <td>2010-12-01 08:26:00</td>\n",
       "      <td>3.39</td>\n",
       "      <td>17850.0</td>\n",
       "      <td>United Kingdom</td>\n",
       "    </tr>\n",
       "    <tr>\n",
       "      <th>4</th>\n",
       "      <td>536365</td>\n",
       "      <td>84029E</td>\n",
       "      <td>RED WOOLLY HOTTIE WHITE HEART.</td>\n",
       "      <td>6</td>\n",
       "      <td>2010-12-01 08:26:00</td>\n",
       "      <td>3.39</td>\n",
       "      <td>17850.0</td>\n",
       "      <td>United Kingdom</td>\n",
       "    </tr>\n",
       "  </tbody>\n",
       "</table>\n",
       "</div>"
      ],
      "text/plain": [
       "  InvoiceNo StockCode                          Description  Quantity  \\\n",
       "0    536365    85123A   WHITE HANGING HEART T-LIGHT HOLDER         6   \n",
       "1    536365     71053                  WHITE METAL LANTERN         6   \n",
       "2    536365    84406B       CREAM CUPID HEARTS COAT HANGER         8   \n",
       "3    536365    84029G  KNITTED UNION FLAG HOT WATER BOTTLE         6   \n",
       "4    536365    84029E       RED WOOLLY HOTTIE WHITE HEART.         6   \n",
       "\n",
       "          InvoiceDate  UnitPrice  CustomerID         Country  \n",
       "0 2010-12-01 08:26:00       2.55     17850.0  United Kingdom  \n",
       "1 2010-12-01 08:26:00       3.39     17850.0  United Kingdom  \n",
       "2 2010-12-01 08:26:00       2.75     17850.0  United Kingdom  \n",
       "3 2010-12-01 08:26:00       3.39     17850.0  United Kingdom  \n",
       "4 2010-12-01 08:26:00       3.39     17850.0  United Kingdom  "
      ]
     },
     "execution_count": 3,
     "metadata": {},
     "output_type": "execute_result"
    }
   ],
   "source": [
    "df.head()"
   ]
  },
  {
   "cell_type": "code",
   "execution_count": 4,
   "metadata": {},
   "outputs": [],
   "source": [
    "df = df[['CustomerID','InvoiceNo','StockCode','Description','Quantity','UnitPrice','InvoiceDate','Country']]"
   ]
  },
  {
   "cell_type": "code",
   "execution_count": 5,
   "metadata": {},
   "outputs": [],
   "source": [
    "df['CustomerID'] = df.CustomerID.astype('str')\n",
    "\n",
    "ref = df.copy()\n",
    "ref.drop(ref[ref['Quantity'] < 0].index, inplace = True)"
   ]
  },
  {
   "cell_type": "code",
   "execution_count": 6,
   "metadata": {},
   "outputs": [
    {
     "name": "stdout",
     "output_type": "stream",
     "text": [
      "(531285, 8)\n"
     ]
    }
   ],
   "source": [
    "print(ref.shape)\n",
    "# ref.isnull().sum()\n",
    "ref['InvoiceDate'] = pd.to_datetime(ref['InvoiceDate'])"
   ]
  },
  {
   "cell_type": "code",
   "execution_count": 7,
   "metadata": {},
   "outputs": [
    {
     "data": {
      "text/plain": [
       "count                  531285\n",
       "unique                  19052\n",
       "top       2011-10-31 14:41:00\n",
       "freq                     1114\n",
       "first     2010-12-01 08:26:00\n",
       "last      2011-12-09 12:50:00\n",
       "Name: InvoiceDate, dtype: object"
      ]
     },
     "execution_count": 7,
     "metadata": {},
     "output_type": "execute_result"
    }
   ],
   "source": [
    "ref.InvoiceDate.describe()"
   ]
  },
  {
   "cell_type": "code",
   "execution_count": 8,
   "metadata": {},
   "outputs": [
    {
     "data": {
      "text/plain": [
       "38"
      ]
     },
     "execution_count": 8,
     "metadata": {},
     "output_type": "execute_result"
    }
   ],
   "source": [
    "ref.Country.nunique()"
   ]
  },
  {
   "cell_type": "code",
   "execution_count": 9,
   "metadata": {},
   "outputs": [],
   "source": [
    "ref= ref[(ref.Quantity>0) & (ref.UnitPrice>0)]"
   ]
  },
  {
   "cell_type": "code",
   "execution_count": 10,
   "metadata": {},
   "outputs": [],
   "source": [
    "ref.dropna(subset=['CustomerID','Description'],inplace=True)"
   ]
  },
  {
   "cell_type": "code",
   "execution_count": 11,
   "metadata": {},
   "outputs": [
    {
     "data": {
      "text/plain": [
       "0"
      ]
     },
     "execution_count": 11,
     "metadata": {},
     "output_type": "execute_result"
    }
   ],
   "source": [
    "ref.InvoiceDate.isna().sum()\n",
    "\n",
    "\n",
    "# datalist = pd.date_range(start=\"2010-12-01\",end=\"2011-12-09\")\n",
    "\n",
    "# zz = 0\n",
    "# for i in ref['InvoiceDate']:\n",
    "#     if zz<=10:\n",
    "#         i = datetime.date(i)\n",
    "#         if i not in datalist:\n",
    "#             print(i)\n"
   ]
  },
  {
   "cell_type": "markdown",
   "metadata": {},
   "source": [
    "### 1. Based on your understanding of the data, what kind of business is this company in?\n",
    "\n",
    "#### Answer - this company is more into ```online retail``` across 38 countries."
   ]
  },
  {
   "cell_type": "markdown",
   "metadata": {},
   "source": [
    "-----------------------------------------------------------------------------------------------------------------\n",
    "\n",
    "### 2. Analyze the sales performance of this company, and provide your insights regarding the same like"
   ]
  },
  {
   "cell_type": "code",
   "execution_count": 12,
   "metadata": {},
   "outputs": [],
   "source": [
    "ref['totalprice'] = ref['Quantity']*ref['UnitPrice']\n",
    "ref['Year'] =  pd.DatetimeIndex(ref['InvoiceDate']).year\n",
    "ref['month'] = pd.DatetimeIndex(ref['InvoiceDate']).month"
   ]
  },
  {
   "cell_type": "markdown",
   "metadata": {},
   "source": [
    "\n",
    "\n",
    "### 1.total monthly invoice"
   ]
  },
  {
   "cell_type": "code",
   "execution_count": 13,
   "metadata": {},
   "outputs": [
    {
     "data": {
      "image/png": "[encoded data removed]",
      "text/plain": [
       "<Figure size 432x288 with 1 Axes>"
      ]
     },
     "metadata": {
      "needs_background": "light"
     },
     "output_type": "display_data"
    }
   ],
   "source": [
    "ref.groupby(['Year','month']).InvoiceNo.count().plot(kind='bar',title='total monthly invoice')\n",
    "plt.show()"
   ]
  },
  {
   "cell_type": "markdown",
   "metadata": {},
   "source": [
    "#### 2.total number of CustomerID"
   ]
  },
  {
   "cell_type": "code",
   "execution_count": 16,
   "metadata": {},
   "outputs": [
    {
     "data": {
      "image/png": "[encoded data removed]",
      "text/plain": [
       "<Figure size 432x288 with 1 Axes>"
      ]
     },
     "metadata": {
      "needs_background": "light"
     },
     "output_type": "display_data"
    }
   ],
   "source": [
    "ref.groupby(['Year','month']).CustomerID.count().plot(kind='bar',title='total number of customers')\n",
    "plt.show()"
   ]
  },
  {
   "cell_type": "markdown",
   "metadata": {},
   "source": [
    "### 3. total number of Quantity"
   ]
  },
  {
   "cell_type": "code",
   "execution_count": 15,
   "metadata": {},
   "outputs": [
    {
     "data": {
      "image/png": "[encoded data removed]",
      "text/plain": [
       "<Figure size 432x288 with 1 Axes>"
      ]
     },
     "metadata": {
      "needs_background": "light"
     },
     "output_type": "display_data"
    }
   ],
   "source": [
    "ref.groupby(['Year','month']).Quantity.sum().plot(kind='bar',title='total number of Quantity')\n",
    "plt.show()"
   ]
  },
  {
   "cell_type": "markdown",
   "metadata": {},
   "source": [
    "### 4. why sales dropped in ```december``` compare to ```november```"
   ]
  },
  {
   "cell_type": "code",
   "execution_count": 92,
   "metadata": {},
   "outputs": [
    {
     "name": "stderr",
     "output_type": "stream",
     "text": [
      "e:\\ProgramData\\Anaconda3\\lib\\site-packages\\ipykernel_launcher.py:3: UserWarning: Boolean Series key will be reindexed to match DataFrame index.\n",
      "  This is separate from the ipykernel package so we can avoid doing imports until\n"
     ]
    },
    {
     "data": {
      "text/plain": [
       "array([datetime.date(2011, 12, 1), datetime.date(2011, 12, 2),\n",
       "       datetime.date(2011, 12, 4), datetime.date(2011, 12, 5),\n",
       "       datetime.date(2011, 12, 6), datetime.date(2011, 12, 7),\n",
       "       datetime.date(2011, 12, 8), datetime.date(2011, 12, 9)],\n",
       "      dtype=object)"
      ]
     },
     "execution_count": 92,
     "metadata": {},
     "output_type": "execute_result"
    }
   ],
   "source": [
    "# x = pd.DatetimeIndex(ref.InvoiceDate).unique().date\n",
    "x_2011 = ref[ref.Year==2011]\n",
    "x_2011 = x_2011[ref.month==12]\n",
    "x_2011.InvoiceDate.dt.date.unique()"
   ]
  },
  {
   "cell_type": "code",
   "execution_count": 20,
   "metadata": {},
   "outputs": [
    {
     "name": "stdout",
     "output_type": "stream",
     "text": [
      "[array(['United Kingdom', 'France', 'Australia', 'Netherlands', 'Germany',\n",
      "       'Norway', 'EIRE', 'Switzerland', 'Spain', 'Poland', 'Portugal',\n",
      "       'Italy', 'Belgium', 'Lithuania', 'Japan', 'Iceland',\n",
      "       'Channel Islands', 'Denmark', 'Cyprus', 'Sweden', 'Finland',\n",
      "       'Austria', 'Bahrain', 'Israel', 'Greece', 'Hong Kong', 'Singapore',\n",
      "       'Lebanon', 'United Arab Emirates', 'Saudi Arabia',\n",
      "       'Czech Republic', 'Canada', 'Unspecified', 'Brazil', 'USA',\n",
      "       'European Community', 'Malta', 'RSA'], dtype=object)] => 38 countries\n"
     ]
    }
   ],
   "source": [
    "ls=[]\n",
    "ls.append(ref.Country.unique())\n",
    "print(ls,\"=>\",ref.Country.nunique(),\"countries\")"
   ]
  },
  {
   "cell_type": "markdown",
   "metadata": {},
   "source": [
    "\n",
    "### 6.  total amount of sales (top 10 Country)"
   ]
  },
  {
   "cell_type": "code",
   "execution_count": 19,
   "metadata": {},
   "outputs": [
    {
     "data": {
      "image/png": "[encoded data removed]",
      "text/plain": [
       "<Figure size 432x288 with 1 Axes>"
      ]
     },
     "metadata": {
      "needs_background": "light"
     },
     "output_type": "display_data"
    }
   ],
   "source": [
    "country_sales  = pd.DataFrame(ref.groupby(['Country'])['Quantity'].sum().sort_values(ascending=False).reset_index()[:10])\n",
    "sns.barplot(x = country_sales['Country'],y = country_sales['Quantity'])\n",
    "plt.xticks(rotation=45)\n",
    "plt.title(\"total amount of sales of top 10 Country\")\n",
    "plt.show()"
   ]
  },
  {
   "cell_type": "markdown",
   "metadata": {},
   "source": [
    "### 7. total amount of sales (lowest 5 Country)"
   ]
  },
  {
   "cell_type": "code",
   "execution_count": 20,
   "metadata": {},
   "outputs": [
    {
     "data": {
      "image/png": "[encoded data removed]",
      "text/plain": [
       "<Figure size 432x288 with 1 Axes>"
      ]
     },
     "metadata": {
      "needs_background": "light"
     },
     "output_type": "display_data"
    }
   ],
   "source": [
    "lastcountry_sales  = pd.DataFrame(ref.groupby(['Country'])['Quantity'].sum().sort_values(ascending=False).reset_index()[33:])\n",
    "sns.barplot(x = lastcountry_sales['Country'],y = lastcountry_sales['Quantity'])\n",
    "plt.xticks(rotation=45)\n",
    "plt.title(\"total amount of sales of lowest 5 Country\")\n",
    "plt.show()"
   ]
  },
  {
   "cell_type": "markdown",
   "metadata": {},
   "source": [
    "### 8. ```Revenue``` per year"
   ]
  },
  {
   "cell_type": "code",
   "execution_count": 22,
   "metadata": {},
   "outputs": [
    {
     "data": {
      "image/png": "[encoded data removed]",
      "text/plain": [
       "<Figure size 432x288 with 1 Axes>"
      ]
     },
     "metadata": {
      "needs_background": "light"
     },
     "output_type": "display_data"
    }
   ],
   "source": [
    "ref.groupby(['Year']).totalprice.sum().plot(kind='bar')\n",
    "plt.title(\"Revenue per Year\")\n",
    "plt.show()"
   ]
  },
  {
   "cell_type": "markdown",
   "metadata": {},
   "source": [
    "### 9. total sales per month"
   ]
  },
  {
   "cell_type": "code",
   "execution_count": 23,
   "metadata": {},
   "outputs": [
    {
     "name": "stdout",
     "output_type": "stream",
     "text": [
      "Year  month\n",
      "2010  12        823746.140\n",
      "2011  1         691364.560\n",
      "      2         523631.890\n",
      "      3         717639.360\n",
      "      4         537808.621\n",
      "      5         770536.020\n",
      "      6         761739.900\n",
      "      7         719221.191\n",
      "      8         759138.380\n",
      "      9        1058590.172\n",
      "      10       1154979.300\n",
      "      11       1509496.330\n",
      "      12        638792.680\n",
      "Name: totalprice, dtype: float64\n"
     ]
    },
    {
     "data": {
      "image/png": "[encoded data removed]",
      "text/plain": [
       "<Figure size 432x288 with 1 Axes>"
      ]
     },
     "metadata": {
      "needs_background": "light"
     },
     "output_type": "display_data"
    }
   ],
   "source": [
    "totalsales = ref.groupby(['Year','month']).totalprice.sum()\n",
    "print(totalsales)\n",
    "totalsales.plot(kind='bar')\n",
    "plt.title(\"total sales per month\")\n",
    "plt.show()"
   ]
  },
  {
   "cell_type": "markdown",
   "metadata": {},
   "source": [
    "## 10. <b><u>```Sales Performance``` can be seen with</u></b>\n",
    "\n",
    "##### 1. sales per every month and every year\n",
    "##### 2. if we compare 2010 sales data we have sales only for dec and in 2011 we have sales for all months\n",
    "\n",
    "##### 3. <b>UPTREND -</b> ```September``` to ```Novembor``` we have very good sales ie we have uptrend in these month (according to total price data)\n",
    "##### 4. <b>DOWNTREND -</b> In DEC 2010 we have sales of ```823746.140``` and in DEC 2011 we have  ```638792.680``` a downtrend in our sales but after seeing and analyzed,i further found out that We have sales data upto 9th on dec 2011, so we found a sales drop in the month of dec 2011"
   ]
  },
  {
   "cell_type": "markdown",
   "metadata": {},
   "source": [
    "--------------------------------------------------------------------------------------------------------------------------------------------\n",
    "### 11. Based on analysis of the data, what are potential areas of improvement for the business?"
   ]
  },
  {
   "cell_type": "code",
   "execution_count": 24,
   "metadata": {},
   "outputs": [
    {
     "data": {
      "text/plain": [
       "CustomerID     0\n",
       "InvoiceNo      0\n",
       "StockCode      0\n",
       "Description    0\n",
       "Quantity       0\n",
       "UnitPrice      0\n",
       "InvoiceDate    0\n",
       "Country        0\n",
       "totalprice     0\n",
       "Year           0\n",
       "month          0\n",
       "dtype: int64"
      ]
     },
     "execution_count": 24,
     "metadata": {},
     "output_type": "execute_result"
    }
   ],
   "source": [
    "ref.isnull().sum()"
   ]
  },
  {
   "cell_type": "code",
   "execution_count": 25,
   "metadata": {},
   "outputs": [
    {
     "data": {
      "image/png": "[encoded data removed]",
      "text/plain": [
       "<Figure size 432x288 with 1 Axes>"
      ]
     },
     "metadata": {
      "needs_background": "light"
     },
     "output_type": "display_data"
    }
   ],
   "source": [
    "ref.groupby(['Country']).CustomerID.count().sort_values(ascending=False)[:5].plot(kind='bar',title='most customers per country')\n",
    "plt.show()"
   ]
  },
  {
   "cell_type": "code",
   "execution_count": 26,
   "metadata": {},
   "outputs": [
    {
     "data": {
      "image/png": "[encoded data removed]",
      "text/plain": [
       "<Figure size 432x288 with 1 Axes>"
      ]
     },
     "metadata": {
      "needs_background": "light"
     },
     "output_type": "display_data"
    }
   ],
   "source": [
    "ref.groupby(['Country']).CustomerID.count().sort_values(ascending=False)[-5:].plot(kind='bar',title='Least customers per country')\n",
    "plt.show()"
   ]
  },
  {
   "cell_type": "markdown",
   "metadata": {},
   "source": [
    "## <b>analysis</b>\n",
    "\n",
    "\n",
    "##### => We see that september to december we have very high sales\n",
    "##### => We can concentrate on improving the sales for the other 8 months\n",
    "##### => We find very less number of customers in Lithuania, Brazil, Czech Republic, Bahrain, Saudi Arabia so We can concentrate on improving on the basis of ```customers``` and ```sales``` in these downtrend country.\n",
    "\n"
   ]
  },
  {
   "cell_type": "markdown",
   "metadata": {},
   "source": [
    "### 12. What are additional business problems that can be analyzed using this data. Support with explanation."
   ]
  },
  {
   "cell_type": "code",
   "execution_count": 27,
   "metadata": {},
   "outputs": [
    {
     "data": {
      "text/html": [
       "<div>\n",
       "<style scoped>\n",
       "    .dataframe tbody tr th:only-of-type {\n",
       "        vertical-align: middle;\n",
       "    }\n",
       "\n",
       "    .dataframe tbody tr th {\n",
       "        vertical-align: top;\n",
       "    }\n",
       "\n",
       "    .dataframe thead th {\n",
       "        text-align: right;\n",
       "    }\n",
       "</style>\n",
       "<table border=\"1\" class=\"dataframe\">\n",
       "  <thead>\n",
       "    <tr style=\"text-align: right;\">\n",
       "      <th></th>\n",
       "      <th>CustomerID</th>\n",
       "      <th>InvoiceNo</th>\n",
       "      <th>StockCode</th>\n",
       "      <th>Description</th>\n",
       "      <th>Quantity</th>\n",
       "      <th>UnitPrice</th>\n",
       "      <th>InvoiceDate</th>\n",
       "      <th>Country</th>\n",
       "      <th>totalprice</th>\n",
       "      <th>Year</th>\n",
       "      <th>month</th>\n",
       "    </tr>\n",
       "  </thead>\n",
       "  <tbody>\n",
       "    <tr>\n",
       "      <th>0</th>\n",
       "      <td>17850.0</td>\n",
       "      <td>536365</td>\n",
       "      <td>85123A</td>\n",
       "      <td>WHITE HANGING HEART T-LIGHT HOLDER</td>\n",
       "      <td>6</td>\n",
       "      <td>2.55</td>\n",
       "      <td>2010-12-01 08:26:00</td>\n",
       "      <td>United Kingdom</td>\n",
       "      <td>15.30</td>\n",
       "      <td>2010</td>\n",
       "      <td>12</td>\n",
       "    </tr>\n",
       "    <tr>\n",
       "      <th>1</th>\n",
       "      <td>17850.0</td>\n",
       "      <td>536365</td>\n",
       "      <td>71053</td>\n",
       "      <td>WHITE METAL LANTERN</td>\n",
       "      <td>6</td>\n",
       "      <td>3.39</td>\n",
       "      <td>2010-12-01 08:26:00</td>\n",
       "      <td>United Kingdom</td>\n",
       "      <td>20.34</td>\n",
       "      <td>2010</td>\n",
       "      <td>12</td>\n",
       "    </tr>\n",
       "    <tr>\n",
       "      <th>2</th>\n",
       "      <td>17850.0</td>\n",
       "      <td>536365</td>\n",
       "      <td>84406B</td>\n",
       "      <td>CREAM CUPID HEARTS COAT HANGER</td>\n",
       "      <td>8</td>\n",
       "      <td>2.75</td>\n",
       "      <td>2010-12-01 08:26:00</td>\n",
       "      <td>United Kingdom</td>\n",
       "      <td>22.00</td>\n",
       "      <td>2010</td>\n",
       "      <td>12</td>\n",
       "    </tr>\n",
       "    <tr>\n",
       "      <th>3</th>\n",
       "      <td>17850.0</td>\n",
       "      <td>536365</td>\n",
       "      <td>84029G</td>\n",
       "      <td>KNITTED UNION FLAG HOT WATER BOTTLE</td>\n",
       "      <td>6</td>\n",
       "      <td>3.39</td>\n",
       "      <td>2010-12-01 08:26:00</td>\n",
       "      <td>United Kingdom</td>\n",
       "      <td>20.34</td>\n",
       "      <td>2010</td>\n",
       "      <td>12</td>\n",
       "    </tr>\n",
       "    <tr>\n",
       "      <th>4</th>\n",
       "      <td>17850.0</td>\n",
       "      <td>536365</td>\n",
       "      <td>84029E</td>\n",
       "      <td>RED WOOLLY HOTTIE WHITE HEART.</td>\n",
       "      <td>6</td>\n",
       "      <td>3.39</td>\n",
       "      <td>2010-12-01 08:26:00</td>\n",
       "      <td>United Kingdom</td>\n",
       "      <td>20.34</td>\n",
       "      <td>2010</td>\n",
       "      <td>12</td>\n",
       "    </tr>\n",
       "  </tbody>\n",
       "</table>\n",
       "</div>"
      ],
      "text/plain": [
       "  CustomerID InvoiceNo StockCode                          Description  \\\n",
       "0    17850.0    536365    85123A   WHITE HANGING HEART T-LIGHT HOLDER   \n",
       "1    17850.0    536365     71053                  WHITE METAL LANTERN   \n",
       "2    17850.0    536365    84406B       CREAM CUPID HEARTS COAT HANGER   \n",
       "3    17850.0    536365    84029G  KNITTED UNION FLAG HOT WATER BOTTLE   \n",
       "4    17850.0    536365    84029E       RED WOOLLY HOTTIE WHITE HEART.   \n",
       "\n",
       "   Quantity  UnitPrice         InvoiceDate         Country  totalprice  Year  \\\n",
       "0         6       2.55 2010-12-01 08:26:00  United Kingdom       15.30  2010   \n",
       "1         6       3.39 2010-12-01 08:26:00  United Kingdom       20.34  2010   \n",
       "2         8       2.75 2010-12-01 08:26:00  United Kingdom       22.00  2010   \n",
       "3         6       3.39 2010-12-01 08:26:00  United Kingdom       20.34  2010   \n",
       "4         6       3.39 2010-12-01 08:26:00  United Kingdom       20.34  2010   \n",
       "\n",
       "   month  \n",
       "0     12  \n",
       "1     12  \n",
       "2     12  \n",
       "3     12  \n",
       "4     12  "
      ]
     },
     "execution_count": 27,
     "metadata": {},
     "output_type": "execute_result"
    }
   ],
   "source": [
    "ref.head()"
   ]
  },
  {
   "cell_type": "code",
   "execution_count": 31,
   "metadata": {},
   "outputs": [
    {
     "name": "stderr",
     "output_type": "stream",
     "text": [
      "e:\\ProgramData\\Anaconda3\\lib\\site-packages\\ipykernel_launcher.py:1: FutureWarning: Indexing with multiple keys (implicitly converted to a tuple of keys) will be deprecated, use a list instead.\n",
      "  \"\"\"Entry point for launching an IPython kernel.\n"
     ]
    },
    {
     "data": {
      "text/html": [
       "<div>\n",
       "<style scoped>\n",
       "    .dataframe tbody tr th:only-of-type {\n",
       "        vertical-align: middle;\n",
       "    }\n",
       "\n",
       "    .dataframe tbody tr th {\n",
       "        vertical-align: top;\n",
       "    }\n",
       "\n",
       "    .dataframe thead th {\n",
       "        text-align: right;\n",
       "    }\n",
       "</style>\n",
       "<table border=\"1\" class=\"dataframe\">\n",
       "  <thead>\n",
       "    <tr style=\"text-align: right;\">\n",
       "      <th></th>\n",
       "      <th>Description</th>\n",
       "      <th>Country</th>\n",
       "      <th>Quantity</th>\n",
       "      <th>totalprice</th>\n",
       "    </tr>\n",
       "  </thead>\n",
       "  <tbody>\n",
       "    <tr>\n",
       "      <th>11405</th>\n",
       "      <td>PAPER CRAFT , LITTLE BIRDIE</td>\n",
       "      <td>United Kingdom</td>\n",
       "      <td>80995.0</td>\n",
       "      <td>168469.60</td>\n",
       "    </tr>\n",
       "    <tr>\n",
       "      <th>1208</th>\n",
       "      <td>ASSORTED INCENSE PACK</td>\n",
       "      <td>EIRE</td>\n",
       "      <td>1440.0</td>\n",
       "      <td>230.40</td>\n",
       "    </tr>\n",
       "    <tr>\n",
       "      <th>17804</th>\n",
       "      <td>TEA TIME TEA TOWELS</td>\n",
       "      <td>United Kingdom</td>\n",
       "      <td>1300.0</td>\n",
       "      <td>3022.50</td>\n",
       "    </tr>\n",
       "    <tr>\n",
       "      <th>1202</th>\n",
       "      <td>ASSORTED FLOWER COLOUR \"LEIS\"</td>\n",
       "      <td>EIRE</td>\n",
       "      <td>960.0</td>\n",
       "      <td>403.20</td>\n",
       "    </tr>\n",
       "    <tr>\n",
       "      <th>6756</th>\n",
       "      <td>GINGHAM HEART DECORATION</td>\n",
       "      <td>Netherlands</td>\n",
       "      <td>936.0</td>\n",
       "      <td>673.92</td>\n",
       "    </tr>\n",
       "    <tr>\n",
       "      <th>...</th>\n",
       "      <td>...</td>\n",
       "      <td>...</td>\n",
       "      <td>...</td>\n",
       "      <td>...</td>\n",
       "    </tr>\n",
       "    <tr>\n",
       "      <th>14643</th>\n",
       "      <td>RUSTIC  SEVENTEEN DRAWER SIDEBOARD</td>\n",
       "      <td>EIRE</td>\n",
       "      <td>1.0</td>\n",
       "      <td>165.00</td>\n",
       "    </tr>\n",
       "    <tr>\n",
       "      <th>17780</th>\n",
       "      <td>TEA TIME OVEN GLOVE</td>\n",
       "      <td>Unspecified</td>\n",
       "      <td>1.0</td>\n",
       "      <td>1.25</td>\n",
       "    </tr>\n",
       "    <tr>\n",
       "      <th>17757</th>\n",
       "      <td>TEA TIME DES TEA COSY</td>\n",
       "      <td>Spain</td>\n",
       "      <td>1.0</td>\n",
       "      <td>2.55</td>\n",
       "    </tr>\n",
       "    <tr>\n",
       "      <th>8810</th>\n",
       "      <td>LADIES &amp; GENTLEMEN METAL SIGN</td>\n",
       "      <td>Switzerland</td>\n",
       "      <td>1.0</td>\n",
       "      <td>2.55</td>\n",
       "    </tr>\n",
       "    <tr>\n",
       "      <th>18110</th>\n",
       "      <td>TRAVEL CARD WALLET VINTAGE TICKET</td>\n",
       "      <td>Japan</td>\n",
       "      <td>1.0</td>\n",
       "      <td>0.42</td>\n",
       "    </tr>\n",
       "  </tbody>\n",
       "</table>\n",
       "<p>19947 rows × 4 columns</p>\n",
       "</div>"
      ],
      "text/plain": [
       "                              Description         Country  Quantity  \\\n",
       "11405         PAPER CRAFT , LITTLE BIRDIE  United Kingdom   80995.0   \n",
       "1208                ASSORTED INCENSE PACK            EIRE    1440.0   \n",
       "17804                TEA TIME TEA TOWELS   United Kingdom    1300.0   \n",
       "1202        ASSORTED FLOWER COLOUR \"LEIS\"            EIRE     960.0   \n",
       "6756             GINGHAM HEART DECORATION     Netherlands     936.0   \n",
       "...                                   ...             ...       ...   \n",
       "14643  RUSTIC  SEVENTEEN DRAWER SIDEBOARD            EIRE       1.0   \n",
       "17780                 TEA TIME OVEN GLOVE     Unspecified       1.0   \n",
       "17757               TEA TIME DES TEA COSY           Spain       1.0   \n",
       "8810        LADIES & GENTLEMEN METAL SIGN     Switzerland       1.0   \n",
       "18110   TRAVEL CARD WALLET VINTAGE TICKET           Japan       1.0   \n",
       "\n",
       "       totalprice  \n",
       "11405   168469.60  \n",
       "1208       230.40  \n",
       "17804     3022.50  \n",
       "1202       403.20  \n",
       "6756       673.92  \n",
       "...           ...  \n",
       "14643      165.00  \n",
       "17780        1.25  \n",
       "17757        2.55  \n",
       "8810         2.55  \n",
       "18110        0.42  \n",
       "\n",
       "[19947 rows x 4 columns]"
      ]
     },
     "execution_count": 31,
     "metadata": {},
     "output_type": "execute_result"
    }
   ],
   "source": [
    "avg_sales = ref.groupby(['Description','Country'])['Quantity','totalprice'].mean().reset_index().sort_values(by='Quantity',ascending=False)\n",
    "avg_sales"
   ]
  },
  {
   "cell_type": "code",
   "execution_count": 68,
   "metadata": {},
   "outputs": [],
   "source": [
    "conditions = (ref['Country'] == 'Saudi Arabia') | (ref['Country'] == 'Bahrain') | (ref['Country'] == 'Czech Republic') | (ref['Country'] == 'Brazil')| (ref['Country'] == 'Lithuania')"
   ]
  },
  {
   "cell_type": "code",
   "execution_count": 69,
   "metadata": {},
   "outputs": [
    {
     "data": {
      "text/html": [
       "<div>\n",
       "<style scoped>\n",
       "    .dataframe tbody tr th:only-of-type {\n",
       "        vertical-align: middle;\n",
       "    }\n",
       "\n",
       "    .dataframe tbody tr th {\n",
       "        vertical-align: top;\n",
       "    }\n",
       "\n",
       "    .dataframe thead th {\n",
       "        text-align: right;\n",
       "    }\n",
       "</style>\n",
       "<table border=\"1\" class=\"dataframe\">\n",
       "  <thead>\n",
       "    <tr style=\"text-align: right;\">\n",
       "      <th></th>\n",
       "      <th>CustomerID</th>\n",
       "      <th>InvoiceNo</th>\n",
       "      <th>StockCode</th>\n",
       "      <th>Description</th>\n",
       "      <th>Quantity</th>\n",
       "      <th>UnitPrice</th>\n",
       "      <th>InvoiceDate</th>\n",
       "      <th>Country</th>\n",
       "      <th>totalprice</th>\n",
       "      <th>Year</th>\n",
       "      <th>month</th>\n",
       "    </tr>\n",
       "  </thead>\n",
       "  <tbody>\n",
       "    <tr>\n",
       "      <th>7986</th>\n",
       "      <td>15332.0</td>\n",
       "      <td>537081</td>\n",
       "      <td>22409</td>\n",
       "      <td>MONEY BOX BISCUITS DESIGN</td>\n",
       "      <td>12</td>\n",
       "      <td>1.25</td>\n",
       "      <td>2010-12-05 12:00:00</td>\n",
       "      <td>Lithuania</td>\n",
       "      <td>15.0</td>\n",
       "      <td>2010</td>\n",
       "      <td>12</td>\n",
       "    </tr>\n",
       "    <tr>\n",
       "      <th>7987</th>\n",
       "      <td>15332.0</td>\n",
       "      <td>537081</td>\n",
       "      <td>21915</td>\n",
       "      <td>RED  HARMONICA IN BOX</td>\n",
       "      <td>36</td>\n",
       "      <td>1.25</td>\n",
       "      <td>2010-12-05 12:00:00</td>\n",
       "      <td>Lithuania</td>\n",
       "      <td>45.0</td>\n",
       "      <td>2010</td>\n",
       "      <td>12</td>\n",
       "    </tr>\n",
       "    <tr>\n",
       "      <th>7988</th>\n",
       "      <td>15332.0</td>\n",
       "      <td>537081</td>\n",
       "      <td>15056BL</td>\n",
       "      <td>EDWARDIAN PARASOL BLACK</td>\n",
       "      <td>12</td>\n",
       "      <td>5.95</td>\n",
       "      <td>2010-12-05 12:00:00</td>\n",
       "      <td>Lithuania</td>\n",
       "      <td>71.4</td>\n",
       "      <td>2010</td>\n",
       "      <td>12</td>\n",
       "    </tr>\n",
       "    <tr>\n",
       "      <th>7989</th>\n",
       "      <td>15332.0</td>\n",
       "      <td>537081</td>\n",
       "      <td>15056N</td>\n",
       "      <td>EDWARDIAN PARASOL NATURAL</td>\n",
       "      <td>12</td>\n",
       "      <td>5.95</td>\n",
       "      <td>2010-12-05 12:00:00</td>\n",
       "      <td>Lithuania</td>\n",
       "      <td>71.4</td>\n",
       "      <td>2010</td>\n",
       "      <td>12</td>\n",
       "    </tr>\n",
       "    <tr>\n",
       "      <th>7990</th>\n",
       "      <td>15332.0</td>\n",
       "      <td>537081</td>\n",
       "      <td>20679</td>\n",
       "      <td>EDWARDIAN PARASOL RED</td>\n",
       "      <td>12</td>\n",
       "      <td>5.95</td>\n",
       "      <td>2010-12-05 12:00:00</td>\n",
       "      <td>Lithuania</td>\n",
       "      <td>71.4</td>\n",
       "      <td>2010</td>\n",
       "      <td>12</td>\n",
       "    </tr>\n",
       "  </tbody>\n",
       "</table>\n",
       "</div>"
      ],
      "text/plain": [
       "     CustomerID InvoiceNo StockCode                Description  Quantity  \\\n",
       "7986    15332.0    537081     22409  MONEY BOX BISCUITS DESIGN        12   \n",
       "7987    15332.0    537081     21915     RED  HARMONICA IN BOX         36   \n",
       "7988    15332.0    537081   15056BL    EDWARDIAN PARASOL BLACK        12   \n",
       "7989    15332.0    537081    15056N  EDWARDIAN PARASOL NATURAL        12   \n",
       "7990    15332.0    537081     20679      EDWARDIAN PARASOL RED        12   \n",
       "\n",
       "      UnitPrice         InvoiceDate    Country  totalprice  Year  month  \n",
       "7986       1.25 2010-12-05 12:00:00  Lithuania        15.0  2010     12  \n",
       "7987       1.25 2010-12-05 12:00:00  Lithuania        45.0  2010     12  \n",
       "7988       5.95 2010-12-05 12:00:00  Lithuania        71.4  2010     12  \n",
       "7989       5.95 2010-12-05 12:00:00  Lithuania        71.4  2010     12  \n",
       "7990       5.95 2010-12-05 12:00:00  Lithuania        71.4  2010     12  "
      ]
     },
     "execution_count": 69,
     "metadata": {},
     "output_type": "execute_result"
    }
   ],
   "source": [
    "low_trend = ref[conditions]\n",
    "low_trend.head()"
   ]
  },
  {
   "cell_type": "code",
   "execution_count": 71,
   "metadata": {},
   "outputs": [
    {
     "data": {
      "text/html": [
       "<div>\n",
       "<style scoped>\n",
       "    .dataframe tbody tr th:only-of-type {\n",
       "        vertical-align: middle;\n",
       "    }\n",
       "\n",
       "    .dataframe tbody tr th {\n",
       "        vertical-align: top;\n",
       "    }\n",
       "\n",
       "    .dataframe thead th {\n",
       "        text-align: right;\n",
       "    }\n",
       "</style>\n",
       "<table border=\"1\" class=\"dataframe\">\n",
       "  <thead>\n",
       "    <tr style=\"text-align: right;\">\n",
       "      <th>Year</th>\n",
       "      <th>2010</th>\n",
       "      <th>2011</th>\n",
       "      <th>All</th>\n",
       "    </tr>\n",
       "    <tr>\n",
       "      <th>Country</th>\n",
       "      <th></th>\n",
       "      <th></th>\n",
       "      <th></th>\n",
       "    </tr>\n",
       "  </thead>\n",
       "  <tbody>\n",
       "    <tr>\n",
       "      <th>Bahrain</th>\n",
       "      <td>54.000000</td>\n",
       "      <td>15.294118</td>\n",
       "      <td>17.444444</td>\n",
       "    </tr>\n",
       "    <tr>\n",
       "      <th>Brazil</th>\n",
       "      <td>0.000000</td>\n",
       "      <td>11.125000</td>\n",
       "      <td>11.125000</td>\n",
       "    </tr>\n",
       "    <tr>\n",
       "      <th>Czech Republic</th>\n",
       "      <td>0.000000</td>\n",
       "      <td>26.840000</td>\n",
       "      <td>26.840000</td>\n",
       "    </tr>\n",
       "    <tr>\n",
       "      <th>Lithuania</th>\n",
       "      <td>18.628571</td>\n",
       "      <td>0.000000</td>\n",
       "      <td>18.628571</td>\n",
       "    </tr>\n",
       "    <tr>\n",
       "      <th>Saudi Arabia</th>\n",
       "      <td>0.000000</td>\n",
       "      <td>8.888889</td>\n",
       "      <td>8.888889</td>\n",
       "    </tr>\n",
       "    <tr>\n",
       "      <th>All</th>\n",
       "      <td>19.611111</td>\n",
       "      <td>16.469880</td>\n",
       "      <td>17.420168</td>\n",
       "    </tr>\n",
       "  </tbody>\n",
       "</table>\n",
       "</div>"
      ],
      "text/plain": [
       "Year                 2010       2011        All\n",
       "Country                                        \n",
       "Bahrain         54.000000  15.294118  17.444444\n",
       "Brazil           0.000000  11.125000  11.125000\n",
       "Czech Republic   0.000000  26.840000  26.840000\n",
       "Lithuania       18.628571   0.000000  18.628571\n",
       "Saudi Arabia     0.000000   8.888889   8.888889\n",
       "All             19.611111  16.469880  17.420168"
      ]
     },
     "execution_count": 71,
     "metadata": {},
     "output_type": "execute_result"
    }
   ],
   "source": [
    "low_trend_pivot = low_trend.pivot_table(columns='Year',index='Country',values='Quantity',margins=True)\n",
    "low_trend_pivot.fillna(0)"
   ]
  }
 ],
 "metadata": {
  "kernelspec": {
   "display_name": "Python 3",
   "language": "python",
   "name": "python3"
  },
  "language_info": {
   "codemirror_mode": {
    "name": "ipython",
    "version": 3
   },
   "file_extension": ".py",
   "mimetype": "text/x-python",
   "name": "python",
   "nbconvert_exporter": "python",
   "pygments_lexer": "ipython3",
   "version": "3.7.6"
  }
 },
 "nbformat": 4,
 "nbformat_minor": 4
}
